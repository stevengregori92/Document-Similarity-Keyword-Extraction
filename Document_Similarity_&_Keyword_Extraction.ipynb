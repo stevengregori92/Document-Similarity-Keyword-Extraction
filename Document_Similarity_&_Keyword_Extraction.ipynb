{
  "nbformat": 4,
  "nbformat_minor": 0,
  "metadata": {
    "colab": {
      "provenance": [],
      "authorship_tag": "ABX9TyMF7RZKaP9O2Dm7XEl0Wwo0",
      "include_colab_link": true
    },
    "kernelspec": {
      "name": "python3",
      "display_name": "Python 3"
    },
    "language_info": {
      "name": "python"
    }
  },
  "cells": [
    {
      "cell_type": "markdown",
      "metadata": {
        "id": "view-in-github",
        "colab_type": "text"
      },
      "source": [
        "<a href=\"https://colab.research.google.com/github/stevengregori92/Document-Similarity-Keyword-Extraction/blob/main/Document_Similarity_%26_Keyword_Extraction.ipynb\" target=\"_parent\"><img src=\"https://colab.research.google.com/assets/colab-badge.svg\" alt=\"Open In Colab\"/></a>"
      ]
    },
    {
      "cell_type": "code",
      "source": [
        "import nltk\n",
        "nltk.download('stopwords')\n",
        "nltk.download('punkt')"
      ],
      "metadata": {
        "colab": {
          "base_uri": "https://localhost:8080/"
        },
        "id": "uR_g6d78P-Rh",
        "outputId": "9be9e26b-9d41-4eae-e66a-de87e0b3e991"
      },
      "execution_count": null,
      "outputs": [
        {
          "output_type": "stream",
          "name": "stderr",
          "text": [
            "[nltk_data] Downloading package stopwords to /root/nltk_data...\n",
            "[nltk_data]   Unzipping corpora/stopwords.zip.\n",
            "[nltk_data] Downloading package punkt to /root/nltk_data...\n",
            "[nltk_data]   Unzipping tokenizers/punkt.zip.\n"
          ]
        },
        {
          "output_type": "execute_result",
          "data": {
            "text/plain": [
              "True"
            ]
          },
          "metadata": {},
          "execution_count": 1
        }
      ]
    },
    {
      "cell_type": "code",
      "execution_count": null,
      "metadata": {
        "id": "jHM_v3MnPr3Q"
      },
      "outputs": [],
      "source": [
        "import pandas as pd\n",
        "from nltk.tokenize import word_tokenize\n",
        "from nltk.corpus import stopwords\n",
        "from string import punctuation\n",
        "\n",
        "sw_indo = stopwords.words('indonesian') + list(punctuation)"
      ]
    },
    {
      "cell_type": "markdown",
      "source": [
        "#Import Dataset"
      ],
      "metadata": {
        "id": "eWKgh_lYQsCw"
      }
    },
    {
      "cell_type": "code",
      "source": [
        "data = pd.read_csv('kompas.csv')\n",
        "data.head()"
      ],
      "metadata": {
        "colab": {
          "base_uri": "https://localhost:8080/",
          "height": 206
        },
        "id": "X9HbUrveQtt-",
        "outputId": "993a077d-c6d1-4566-8dbe-49dfb60d2854"
      },
      "execution_count": null,
      "outputs": [
        {
          "output_type": "execute_result",
          "data": {
            "text/plain": [
              "                                                teks\n",
              "0  Ginandjar Tetap Ditahan. Jaksa Agung Dilaporka...\n",
              "1  Jakarta Dikangkangi Para Preman\\nKALAU tak pun...\n",
              "2  Penyimpangan di Setpres Seolah Terjadi Sekaran...\n",
              "3  Dibayarkan, Rapel Kenaikan Gaji Pegawai Pos\\nK...\n",
              "4  Stop Kekerasan, Elite agar Duduk Bersama\\nSeju..."
            ],
            "text/html": [
              "\n",
              "  <div id=\"df-f4ba3003-b04a-41ca-90b2-95f54a72953d\">\n",
              "    <div class=\"colab-df-container\">\n",
              "      <div>\n",
              "<style scoped>\n",
              "    .dataframe tbody tr th:only-of-type {\n",
              "        vertical-align: middle;\n",
              "    }\n",
              "\n",
              "    .dataframe tbody tr th {\n",
              "        vertical-align: top;\n",
              "    }\n",
              "\n",
              "    .dataframe thead th {\n",
              "        text-align: right;\n",
              "    }\n",
              "</style>\n",
              "<table border=\"1\" class=\"dataframe\">\n",
              "  <thead>\n",
              "    <tr style=\"text-align: right;\">\n",
              "      <th></th>\n",
              "      <th>teks</th>\n",
              "    </tr>\n",
              "  </thead>\n",
              "  <tbody>\n",
              "    <tr>\n",
              "      <th>0</th>\n",
              "      <td>Ginandjar Tetap Ditahan. Jaksa Agung Dilaporka...</td>\n",
              "    </tr>\n",
              "    <tr>\n",
              "      <th>1</th>\n",
              "      <td>Jakarta Dikangkangi Para Preman\\nKALAU tak pun...</td>\n",
              "    </tr>\n",
              "    <tr>\n",
              "      <th>2</th>\n",
              "      <td>Penyimpangan di Setpres Seolah Terjadi Sekaran...</td>\n",
              "    </tr>\n",
              "    <tr>\n",
              "      <th>3</th>\n",
              "      <td>Dibayarkan, Rapel Kenaikan Gaji Pegawai Pos\\nK...</td>\n",
              "    </tr>\n",
              "    <tr>\n",
              "      <th>4</th>\n",
              "      <td>Stop Kekerasan, Elite agar Duduk Bersama\\nSeju...</td>\n",
              "    </tr>\n",
              "  </tbody>\n",
              "</table>\n",
              "</div>\n",
              "      <button class=\"colab-df-convert\" onclick=\"convertToInteractive('df-f4ba3003-b04a-41ca-90b2-95f54a72953d')\"\n",
              "              title=\"Convert this dataframe to an interactive table.\"\n",
              "              style=\"display:none;\">\n",
              "        \n",
              "  <svg xmlns=\"http://www.w3.org/2000/svg\" height=\"24px\"viewBox=\"0 0 24 24\"\n",
              "       width=\"24px\">\n",
              "    <path d=\"M0 0h24v24H0V0z\" fill=\"none\"/>\n",
              "    <path d=\"M18.56 5.44l.94 2.06.94-2.06 2.06-.94-2.06-.94-.94-2.06-.94 2.06-2.06.94zm-11 1L8.5 8.5l.94-2.06 2.06-.94-2.06-.94L8.5 2.5l-.94 2.06-2.06.94zm10 10l.94 2.06.94-2.06 2.06-.94-2.06-.94-.94-2.06-.94 2.06-2.06.94z\"/><path d=\"M17.41 7.96l-1.37-1.37c-.4-.4-.92-.59-1.43-.59-.52 0-1.04.2-1.43.59L10.3 9.45l-7.72 7.72c-.78.78-.78 2.05 0 2.83L4 21.41c.39.39.9.59 1.41.59.51 0 1.02-.2 1.41-.59l7.78-7.78 2.81-2.81c.8-.78.8-2.07 0-2.86zM5.41 20L4 18.59l7.72-7.72 1.47 1.35L5.41 20z\"/>\n",
              "  </svg>\n",
              "      </button>\n",
              "      \n",
              "  <style>\n",
              "    .colab-df-container {\n",
              "      display:flex;\n",
              "      flex-wrap:wrap;\n",
              "      gap: 12px;\n",
              "    }\n",
              "\n",
              "    .colab-df-convert {\n",
              "      background-color: #E8F0FE;\n",
              "      border: none;\n",
              "      border-radius: 50%;\n",
              "      cursor: pointer;\n",
              "      display: none;\n",
              "      fill: #1967D2;\n",
              "      height: 32px;\n",
              "      padding: 0 0 0 0;\n",
              "      width: 32px;\n",
              "    }\n",
              "\n",
              "    .colab-df-convert:hover {\n",
              "      background-color: #E2EBFA;\n",
              "      box-shadow: 0px 1px 2px rgba(60, 64, 67, 0.3), 0px 1px 3px 1px rgba(60, 64, 67, 0.15);\n",
              "      fill: #174EA6;\n",
              "    }\n",
              "\n",
              "    [theme=dark] .colab-df-convert {\n",
              "      background-color: #3B4455;\n",
              "      fill: #D2E3FC;\n",
              "    }\n",
              "\n",
              "    [theme=dark] .colab-df-convert:hover {\n",
              "      background-color: #434B5C;\n",
              "      box-shadow: 0px 1px 3px 1px rgba(0, 0, 0, 0.15);\n",
              "      filter: drop-shadow(0px 1px 2px rgba(0, 0, 0, 0.3));\n",
              "      fill: #FFFFFF;\n",
              "    }\n",
              "  </style>\n",
              "\n",
              "      <script>\n",
              "        const buttonEl =\n",
              "          document.querySelector('#df-f4ba3003-b04a-41ca-90b2-95f54a72953d button.colab-df-convert');\n",
              "        buttonEl.style.display =\n",
              "          google.colab.kernel.accessAllowed ? 'block' : 'none';\n",
              "\n",
              "        async function convertToInteractive(key) {\n",
              "          const element = document.querySelector('#df-f4ba3003-b04a-41ca-90b2-95f54a72953d');\n",
              "          const dataTable =\n",
              "            await google.colab.kernel.invokeFunction('convertToInteractive',\n",
              "                                                     [key], {});\n",
              "          if (!dataTable) return;\n",
              "\n",
              "          const docLinkHtml = 'Like what you see? Visit the ' +\n",
              "            '<a target=\"_blank\" href=https://colab.research.google.com/notebooks/data_table.ipynb>data table notebook</a>'\n",
              "            + ' to learn more about interactive tables.';\n",
              "          element.innerHTML = '';\n",
              "          dataTable['output_type'] = 'display_data';\n",
              "          await google.colab.output.renderOutput(dataTable, element);\n",
              "          const docLink = document.createElement('div');\n",
              "          docLink.innerHTML = docLinkHtml;\n",
              "          element.appendChild(docLink);\n",
              "        }\n",
              "      </script>\n",
              "    </div>\n",
              "  </div>\n",
              "  "
            ]
          },
          "metadata": {},
          "execution_count": 6
        }
      ]
    },
    {
      "cell_type": "markdown",
      "source": [
        "#Extract TFIDF"
      ],
      "metadata": {
        "id": "G8xH1trSRYsS"
      }
    },
    {
      "cell_type": "code",
      "source": [
        "from sklearn.feature_extraction.text import TfidfVectorizer"
      ],
      "metadata": {
        "id": "DhCz1ZyIQ4Kr"
      },
      "execution_count": null,
      "outputs": []
    },
    {
      "cell_type": "code",
      "source": [
        "tfidf = TfidfVectorizer(ngram_range=(1,2), tokenizer=word_tokenize, stop_words=sw_indo)\n",
        "tfidf_matrix = tfidf.fit_transform(data.teks)"
      ],
      "metadata": {
        "colab": {
          "base_uri": "https://localhost:8080/"
        },
        "id": "FKxRRaBKRhxz",
        "outputId": "2a64d27a-d98f-4760-b13c-56af0ef0fe5b"
      },
      "execution_count": null,
      "outputs": [
        {
          "output_type": "stream",
          "name": "stderr",
          "text": [
            "/usr/local/lib/python3.10/dist-packages/sklearn/feature_extraction/text.py:528: UserWarning: The parameter 'token_pattern' will not be used since 'tokenizer' is not None'\n",
            "  warnings.warn(\n",
            "/usr/local/lib/python3.10/dist-packages/sklearn/feature_extraction/text.py:409: UserWarning: Your stop_words may be inconsistent with your preprocessing. Tokenizing the stop words generated tokens ['``'] not in stop_words.\n",
            "  warnings.warn(\n"
          ]
        }
      ]
    },
    {
      "cell_type": "markdown",
      "source": [
        "#TFIDF Similarity -> Document Similarity"
      ],
      "metadata": {
        "id": "iHrAonDQSdjn"
      }
    },
    {
      "cell_type": "code",
      "source": [
        "from sklearn.metrics.pairwise import cosine_similarity"
      ],
      "metadata": {
        "id": "IVrl0ktnSUqI"
      },
      "execution_count": null,
      "outputs": []
    },
    {
      "cell_type": "code",
      "source": [
        "sim = cosine_similarity(tfidf_matrix[0], tfidf_matrix)\n",
        "sim"
      ],
      "metadata": {
        "colab": {
          "base_uri": "https://localhost:8080/"
        },
        "id": "CkXhRdEDTClU",
        "outputId": "79bdf2f2-e52c-4061-8fd4-a30a5c65ccc9"
      },
      "execution_count": null,
      "outputs": [
        {
          "output_type": "execute_result",
          "data": {
            "text/plain": [
              "array([[1.        , 0.00858328, 0.01060043, ..., 0.00856287, 0.00677808,\n",
              "        0.01513341]])"
            ]
          },
          "metadata": {},
          "execution_count": 10
        }
      ]
    },
    {
      "cell_type": "code",
      "source": [
        "sim.argsort()"
      ],
      "metadata": {
        "colab": {
          "base_uri": "https://localhost:8080/"
        },
        "id": "TLokeeBITx4C",
        "outputId": "fc9a55cf-e7ba-414d-ce67-572543130605"
      },
      "execution_count": null,
      "outputs": [
        {
          "output_type": "execute_result",
          "data": {
            "text/plain": [
              "array([[ 932, 1131, 1593, ...,  215,  144,    0]])"
            ]
          },
          "metadata": {},
          "execution_count": 11
        }
      ]
    },
    {
      "cell_type": "code",
      "source": [
        "data.teks[0][:200]"
      ],
      "metadata": {
        "colab": {
          "base_uri": "https://localhost:8080/",
          "height": 53
        },
        "id": "YSIMIMcjUHc8",
        "outputId": "e936f5e3-3768-4e1c-b7ff-a0fe0eff9b12"
      },
      "execution_count": null,
      "outputs": [
        {
          "output_type": "execute_result",
          "data": {
            "text/plain": [
              "'Ginandjar Tetap Ditahan. Jaksa Agung Dilaporkan ke Polri\\nKejaksaan Agung memutuskan untuk tetap menahan tersangka kasus korupsi, Ginandjar Kartasasmita, sampai batas waktu yang ditentukan KUHAP. Sedan'"
            ],
            "application/vnd.google.colaboratory.intrinsic+json": {
              "type": "string"
            }
          },
          "metadata": {},
          "execution_count": 12
        }
      ]
    },
    {
      "cell_type": "code",
      "source": [
        "data.teks[144][:200]"
      ],
      "metadata": {
        "colab": {
          "base_uri": "https://localhost:8080/",
          "height": 53
        },
        "id": "JDIXwGPnUY7d",
        "outputId": "9b251477-3bdb-49b6-fa99-e3d63d3fed7e"
      },
      "execution_count": null,
      "outputs": [
        {
          "output_type": "execute_result",
          "data": {
            "text/plain": [
              "'Kejaksaan Agung Terbitkan Surat Penahanan Baru\\nKejaksaan Agung (Kejagung) akhirnya menerbitkan surat perintah penahanan yang baru terhadap mantan Menteri Pertambangan dan Energi Ginandjar Kartasasmita'"
            ],
            "application/vnd.google.colaboratory.intrinsic+json": {
              "type": "string"
            }
          },
          "metadata": {},
          "execution_count": 13
        }
      ]
    },
    {
      "cell_type": "code",
      "source": [
        "data.teks[215][:200]"
      ],
      "metadata": {
        "colab": {
          "base_uri": "https://localhost:8080/",
          "height": 53
        },
        "id": "3Ts-ZkouUbHI",
        "outputId": "859571fd-d12a-4f88-9fc4-c4c38ea81b95"
      },
      "execution_count": null,
      "outputs": [
        {
          "output_type": "execute_result",
          "data": {
            "text/plain": [
              "'Kuasa Hukum Ginandjar Bertahan di Rutan\\nSejumlah kuasa hukum Ginandjar Kartasasmita hingga hari Selasa (17/4) pukul 22.00 masih bertahan di ruang tahanan (rutan) Kejaksaan Agung (Kejagung). Selasa pag'"
            ],
            "application/vnd.google.colaboratory.intrinsic+json": {
              "type": "string"
            }
          },
          "metadata": {},
          "execution_count": 14
        }
      ]
    },
    {
      "cell_type": "code",
      "source": [
        "data.teks[932][:200]"
      ],
      "metadata": {
        "colab": {
          "base_uri": "https://localhost:8080/",
          "height": 53
        },
        "id": "GmLaZFWBUj10",
        "outputId": "ba4b3211-5925-4f3d-bd9c-c9201937b250"
      },
      "execution_count": null,
      "outputs": [
        {
          "output_type": "execute_result",
          "data": {
            "text/plain": [
              "'Pusat Pengolahan Ikan Asin Lhokseumawe Terbakar\\nPusat pengolahan ikan asin di kawasan Pasar Ikan Lhokseumawe (Aceh) terbakar bersama berton-ton stok ikan asin Sabtu (13/1) siang. Sedikitnya 25 gudang '"
            ],
            "application/vnd.google.colaboratory.intrinsic+json": {
              "type": "string"
            }
          },
          "metadata": {},
          "execution_count": 15
        }
      ]
    },
    {
      "cell_type": "markdown",
      "source": [
        "#Keyword Extraction"
      ],
      "metadata": {
        "id": "Q08QFhvmU4us"
      }
    },
    {
      "cell_type": "code",
      "source": [
        "vocab = tfidf.get_feature_names_out()\n",
        "vocab[-10:]"
      ],
      "metadata": {
        "colab": {
          "base_uri": "https://localhost:8080/"
        },
        "id": "8R3USEcAUn-t",
        "outputId": "57e0d131-6427-40a3-fca5-f83716b9fe93"
      },
      "execution_count": null,
      "outputs": [
        {
          "output_type": "execute_result",
          "data": {
            "text/plain": [
              "array(['zuniga memilih', 'zunnatul', 'zunnatul mafruhah', 'zurich',\n",
              "       'zurich northholt', 'zw', 'zw suparman', 'zw tim', 'zx',\n",
              "       'zx diserbu'], dtype=object)"
            ]
          },
          "metadata": {},
          "execution_count": 16
        }
      ]
    },
    {
      "cell_type": "code",
      "source": [
        "tfidf_matrix[0].toarray()"
      ],
      "metadata": {
        "colab": {
          "base_uri": "https://localhost:8080/"
        },
        "id": "bIcGj-3AVS6W",
        "outputId": "707c03f9-4baa-4ad7-fe87-037ecb29c5fb"
      },
      "execution_count": null,
      "outputs": [
        {
          "output_type": "execute_result",
          "data": {
            "text/plain": [
              "array([[0.02115058, 0.        , 0.        , ..., 0.        , 0.        ,\n",
              "        0.        ]])"
            ]
          },
          "metadata": {},
          "execution_count": 17
        }
      ]
    },
    {
      "cell_type": "code",
      "source": [
        "sorted_tfidf = tfidf_matrix[0].toarray()[0].argsort()\n",
        "sorted_tfidf"
      ],
      "metadata": {
        "colab": {
          "base_uri": "https://localhost:8080/"
        },
        "id": "TyeD-hjMV93M",
        "outputId": "352b124e-60d7-4cb9-eac5-0ba2f639b600"
      },
      "execution_count": null,
      "outputs": [
        {
          "output_type": "execute_result",
          "data": {
            "text/plain": [
              "array([274212, 365469, 365468, ..., 386379, 436652, 169219])"
            ]
          },
          "metadata": {},
          "execution_count": 18
        }
      ]
    },
    {
      "cell_type": "code",
      "source": [
        "vocab[169219]"
      ],
      "metadata": {
        "colab": {
          "base_uri": "https://localhost:8080/",
          "height": 35
        },
        "id": "WmsWKjbTWMRC",
        "outputId": "2230af30-479d-49e1-e0eb-8e4ff9e51a03"
      },
      "execution_count": null,
      "outputs": [
        {
          "output_type": "execute_result",
          "data": {
            "text/plain": [
              "'ginandjar'"
            ],
            "application/vnd.google.colaboratory.intrinsic+json": {
              "type": "string"
            }
          },
          "metadata": {},
          "execution_count": 19
        }
      ]
    },
    {
      "cell_type": "code",
      "source": [
        "vocab[274212]"
      ],
      "metadata": {
        "colab": {
          "base_uri": "https://localhost:8080/",
          "height": 35
        },
        "id": "XHVoqTapWSzo",
        "outputId": "251a4024-f102-427a-8571-495ea3ae2020"
      },
      "execution_count": null,
      "outputs": [
        {
          "output_type": "execute_result",
          "data": {
            "text/plain": [
              "'litbang bem'"
            ],
            "application/vnd.google.colaboratory.intrinsic+json": {
              "type": "string"
            }
          },
          "metadata": {},
          "execution_count": 20
        }
      ]
    },
    {
      "cell_type": "code",
      "source": [
        "[vocab[idx] for idx in reversed(sorted_tfidf[-10:])]"
      ],
      "metadata": {
        "colab": {
          "base_uri": "https://localhost:8080/"
        },
        "id": "hCfB9zE2WYQ5",
        "outputId": "c320de35-0b92-4b9e-c938-771ae1cda4e8"
      },
      "execution_count": null,
      "outputs": [
        {
          "output_type": "execute_result",
          "data": {
            "text/plain": [
              "['ginandjar',\n",
              " 'putusan',\n",
              " 'penahanan',\n",
              " 'hukum ginandjar',\n",
              " 'kuasa hukum',\n",
              " 'rusman',\n",
              " 'kejaksaan',\n",
              " 'hakim rusman',\n",
              " 'kuasa',\n",
              " '9 april']"
            ]
          },
          "metadata": {},
          "execution_count": 21
        }
      ]
    },
    {
      "cell_type": "code",
      "source": [
        "def extract_keywords_tfidf(doc, tfidf, topk=10):\n",
        "  matrix = tfidf.transform([doc])\n",
        "  vocab = tfidf.get_feature_names_out()\n",
        "\n",
        "  sorted_tfidf = matrix[0].toarray()[0].argsort()\n",
        "  return [vocab[idx] for idx in reversed(sorted_tfidf[-topk:])]"
      ],
      "metadata": {
        "id": "pvRz-wx-WzF7"
      },
      "execution_count": null,
      "outputs": []
    },
    {
      "cell_type": "code",
      "source": [
        "text= '''Liputan6.com, Jakarta Otoritas Jasa Keuangan (OJK) mencatat per April 2023 dana \n",
        "yang terhimpun dari pasar modal melalui efek bersifat utang (EBUS), rights issue, dan \n",
        "IPO mencapai Rp 84,01 triliun, dengan jumlah emiten baru sebanyak 33 emiten.\"Penghimpunan \n",
        "dana di pasar modal di bulan April masih terjaga tinggi,\" kata Kepala Eksekutif Pengawas Pasar \n",
        "Modal Keuangan Derivatif dan Bursa Karbon OJK, Inarno Djajadi, dalam konferensi pers Hasil \n",
        "rapat Dewan Komisioner Bulan April 2023, Jumat (5/5/2023). Adapun per 28 April 2023, OJK \n",
        "mencatat terdapat 63 perusahaan yang akan menggelar penawaran umum saham perdana atau Initial \n",
        "Public Offering (IPO) dengan nominal Rp 61,71 triliun.\n",
        "\n",
        "Maka, secara keseluruhan tercatat ada 115 pipeline yang berada dalam penawaran umum dengan \n",
        "nilai Rp 135,31 triliun. Disisi lain, Inarno menyebut juga ada 12 penawaran umum terbatas \n",
        "(PUT) atau rights issue sebesar Rp 20,56 triliun. Serta, ada 16 penawaran umum EBUS sebesar \n",
        "Rp 21,06 triliun.\n",
        "\n",
        "Kemudian, terdapat 24 rencana penawaran umum berkelanjutan EBUS Tahap I dan II sebesar \n",
        "Rp 31,99 triliun. OJK pun berharap total penghimpunan dana di pasar modal bisa tembus di \n",
        "kisaran Rp 170 triliun.\n",
        "\n",
        "Kendati demikian, OJK berhasil mendapatkan 16 penyelenggara Securities Crowdfunding (SCF) \n",
        "dari 338 penerbit dengan total 147.142 pemodal hingga 28 APril 2023. Adapun dari angka tersebut \n",
        "dana yang berhasil diperoleh dari SCF mencapai Rp 828,58 miliar.\n",
        "\n",
        "Sebelumnya, Otoritas Jasa Keuangan (OJK) menyebutkan sektor jasa keuangan tetap terjaga \n",
        "sehingga berkontribusi untuk kinerja perekonomian nasional di tengah ketidakpastian global.\n",
        "\n",
        "Dari pasar saham, Kepala Eksekutif Pengawas Pasar Modal, Keuangan Derivatif dan Bursa Karbon \n",
        "OJK, Inarno Djajadi menerangkan indeks harga saham gabungan (IHSG) sampai dengan 24 Februari \n",
        "2023 tercatat menguat sebesar 0,25 persen secara month to date (mtd). Hal itu terjadi seiring \n",
        "investor non-residen yang membukukan inflow sebesar Rp 3,38 triliun.\n",
        "\n",
        " “Secara year to date, indeks harga saham gabungan menguat tipis yaitu 0,09 persen dengan inflow \n",
        " investor non-resident sebesar Rp 162,8 miliar,” kata dia dalam Konferensi Pers Rapat Dewan \n",
        " Komisaris Bulanan Februari 2023, Senin (27/2/2023).\n",
        "\n",
        "Sementara di pasar obligasi, indeks ICBI menguat 0,04 persen mtd atau 1,53 persen year to date \n",
        "ke level 350,07. Untuk pasar obligasi korporasi, aliran dana keluar investor non-residen tercatat \n",
        "sebesar Rp 84,2 miliar secara mtd dan Rp 177,2 miliar secara ytd.\n",
        "\n",
        "Di pasar SBN non-residen mencatatkan outflow sebesar Rp 5,82 triliun mtd. Namun secara year \n",
        "to date membukukan inflow sebesar Rp 43,88 triliun. Adapun rata-rata yield SBN pada seluruh \n",
        "tenor secara mtd naik sebesar 6,20 bps, pun demikian secara year to date masih menguat 12,66 bps.\n",
        "\n",
        "Nilai aktiva aktiva bersih atau NAB reksa dana tercatat sebesar Rp 59,18 triliun atau menurun \n",
        "0,05 persen mtd dengan investor reksa dana membukukan net subscription sebesar Rp 3,96 triliun \n",
        "mtd. Secara yts, NAB reksa dana tumbuh 0,85 persen dan tercatat net subscription sebesar Rp 7,88 triliun.\n",
        "\n",
        "Penghimpunan dana perusahaan melalui pasar modal hingga 24 Februari 2023 tercatat Rp 35,8 triliun \n",
        "dengan jumlah emiten baru tercatat 17 emiten.\n",
        "\n",
        "“Di pipeline masih terdapat 73 rencana penawaran umum dengan nilai sebesar Rp 108,4 triliun, yang \n",
        "di antaranya merupakan rencana yang akan dilakukan oleh 45 calon emiten baru,” sebut Inarno.\n",
        "\n",
        "Sedangkan untuk penggalangan dana pada securities crowdfunding yang merupakan alternatif pendanaan \n",
        "bagi UMKM, telah terdapat 16 penyelenggara yang telah mendapatkan izin dari OJK dengan 360 penerbit \n",
        "142.474 pemodal dan total dana yang dihimpun sebesar Rp 778,5 miliar.\n",
        "\n",
        "Tren pertumbuhan jumlah investor terus berlanjut dengan jumlah investor pasar modal mencapai 10,6 \n",
        "juta investor per 23 Februari 2023. \n",
        "'''"
      ],
      "metadata": {
        "id": "2ltO8ERKYv9S"
      },
      "execution_count": null,
      "outputs": []
    },
    {
      "cell_type": "code",
      "source": [
        "extract_keywords_tfidf(text, tfidf)"
      ],
      "metadata": {
        "colab": {
          "base_uri": "https://localhost:8080/"
        },
        "id": "749A1FzSMJdh",
        "outputId": "51fa470c-bbe5-4357-bb81-e4cefae71615"
      },
      "execution_count": null,
      "outputs": [
        {
          "output_type": "execute_result",
          "data": {
            "text/plain": [
              "['triliun',\n",
              " 'rp',\n",
              " 'emiten',\n",
              " 'pasar modal',\n",
              " 'date',\n",
              " 'miliar',\n",
              " 'penawaran',\n",
              " 'pasar',\n",
              " 'year',\n",
              " 'dana']"
            ]
          },
          "metadata": {},
          "execution_count": 24
        }
      ]
    },
    {
      "cell_type": "code",
      "source": [],
      "metadata": {
        "id": "ohxvugcwMPER"
      },
      "execution_count": null,
      "outputs": []
    }
  ]
}